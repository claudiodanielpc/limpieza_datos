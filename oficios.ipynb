{
 "cells": [
  {
   "cell_type": "code",
   "execution_count": 4,
   "metadata": {},
   "outputs": [],
   "source": [
    "import os\n",
    "import win32com.client as win32\n",
    "import re\n",
    "import pandas as pd\n",
    "import PyPDF2"
   ]
  },
  {
   "cell_type": "code",
   "execution_count": 5,
   "metadata": {},
   "outputs": [],
   "source": [
    "#Directorio de trabajo\n",
    "os.chdir(\"C:/Users/claudio.pacheco/Desktop/ejemplos2\")"
   ]
  },
  {
   "cell_type": "code",
   "execution_count": 6,
   "metadata": {},
   "outputs": [
    {
     "data": {
      "text/plain": [
       "['01 Ene.pdf', '12 Dic.pdf']"
      ]
     },
     "execution_count": 6,
     "metadata": {},
     "output_type": "execute_result"
    }
   ],
   "source": [
    "#Identificar todos los archivos pdf del directorio\n",
    "archivos = os.listdir()\n",
    "pdf_files = [f for f in archivos if f.endswith('.pdf')]\n",
    "pdf_files"
   ]
  },
  {
   "cell_type": "code",
   "execution_count": 7,
   "metadata": {},
   "outputs": [],
   "source": [
    "#Crear objeto de word\n",
    "word = win32.gencache.EnsureDispatch('Word.Application')\n",
    "word.Visible = False"
   ]
  },
  {
   "cell_type": "code",
   "execution_count": 8,
   "metadata": {},
   "outputs": [],
   "source": [
    "for pdf_file in pdf_files:\n",
    "    doc = word.Documents.Open(os.path.join(os.getcwd(), pdf_file))\n",
    "    doc.SaveAs(os.path.join(os.getcwd(), pdf_file[:-4] + '_edit.pdf'), FileFormat=17)\n",
    "    doc.Close()\n",
    "\n",
    "# Quit Word to free up resources\n",
    "word.Quit()\n"
   ]
  },
  {
   "cell_type": "code",
   "execution_count": 9,
   "metadata": {},
   "outputs": [
    {
     "data": {
      "text/plain": [
       "['01 Ene_edit.pdf', '12 Dic_edit.pdf']"
      ]
     },
     "execution_count": 9,
     "metadata": {},
     "output_type": "execute_result"
    }
   ],
   "source": [
    "editables= [f for f in os.listdir() if f.endswith('_edit.pdf')]\n",
    "editables"
   ]
  },
  {
   "cell_type": "code",
   "execution_count": 10,
   "metadata": {},
   "outputs": [],
   "source": [
    "dfs = []  # Lista para guardar los dataframes\n",
    "\n",
    "for editable in editables:\n",
    "    pdfFileObj = open(os.path.join(os.getcwd(), editable), 'rb')\n",
    "    pdfReader = PyPDF2.PdfReader(pdfFileObj)\n",
    "    texto = pdfReader.pages[0].extract_text()\n",
    "    \n",
    "    # Extraer número de oficio\n",
    "    oficio_start_index = texto.find(\"No. \")\n",
    "    oficio_end_index = texto.find(\"Ciudad de México\")\n",
    "    if oficio_start_index != -1 and oficio_end_index != -1:\n",
    "        oficio_text = texto[oficio_start_index:oficio_end_index + len(\"Ciudad de México\")]\n",
    "        oficio_text = re.sub(' +', ' ', oficio_text).replace('\\n', ' ').replace('Ciudad de México', '').replace('No.', '').strip()\n",
    "    \n",
    "    # Extraer fecha\n",
    "    pattern = r'\\b(\\d{1,2}) de ([a-zA-Z]+) de (\\d{4})\\b'\n",
    "    match = re.search(pattern, texto)\n",
    "    if match:\n",
    "        day, month, year = match.groups()\n",
    "        date = f\"{day} {month} {year}\"\n",
    "\n",
    "    # Extraer concepto and monto\n",
    "    start_index = texto.find(\"Concepto\")\n",
    "    end_index = texto.find(\"Total\")\n",
    "    if start_index != -1 and end_index != -1:\n",
    "        extracted_text = texto[start_index:end_index + len(\"Total\")]\n",
    "        clean_text = re.sub(r'\\'|,', '', extracted_text)\n",
    "        numbers = re.findall(r'\\d+', clean_text)\n",
    "        df = pd.DataFrame(numbers, columns=['monto'])\n",
    "        conceptos = [\"FGP\", \"FFM\", \"IEPS\"]\n",
    "        df['concepto'] = conceptos\n",
    "        df['oficio'] = oficio_text\n",
    "        df['fecha'] = date\n",
    "        df['monto'] = df['monto'].astype(int)\n",
    "        dfs.append(df)\n",
    "\n",
    "# Pegar dfs\n",
    "final_df = pd.concat(dfs, ignore_index=True)"
   ]
  },
  {
   "cell_type": "code",
   "execution_count": 11,
   "metadata": {},
   "outputs": [
    {
     "data": {
      "text/html": [
       "<div>\n",
       "<style scoped>\n",
       "    .dataframe tbody tr th:only-of-type {\n",
       "        vertical-align: middle;\n",
       "    }\n",
       "\n",
       "    .dataframe tbody tr th {\n",
       "        vertical-align: top;\n",
       "    }\n",
       "\n",
       "    .dataframe thead th {\n",
       "        text-align: right;\n",
       "    }\n",
       "</style>\n",
       "<table border=\"1\" class=\"dataframe\">\n",
       "  <thead>\n",
       "    <tr style=\"text-align: right;\">\n",
       "      <th></th>\n",
       "      <th>monto</th>\n",
       "      <th>concepto</th>\n",
       "      <th>oficio</th>\n",
       "      <th>fecha</th>\n",
       "    </tr>\n",
       "  </thead>\n",
       "  <tbody>\n",
       "    <tr>\n",
       "      <th>0</th>\n",
       "      <td>667493503</td>\n",
       "      <td>FGP</td>\n",
       "      <td>351 -A-DGPA -C-267</td>\n",
       "      <td>19 enero 2018</td>\n",
       "    </tr>\n",
       "    <tr>\n",
       "      <th>1</th>\n",
       "      <td>43139478</td>\n",
       "      <td>FFM</td>\n",
       "      <td>351 -A-DGPA -C-267</td>\n",
       "      <td>19 enero 2018</td>\n",
       "    </tr>\n",
       "    <tr>\n",
       "      <th>2</th>\n",
       "      <td>9007129</td>\n",
       "      <td>IEPS</td>\n",
       "      <td>351 -A-DGPA -C-267</td>\n",
       "      <td>19 enero 2018</td>\n",
       "    </tr>\n",
       "    <tr>\n",
       "      <th>3</th>\n",
       "      <td>712355256</td>\n",
       "      <td>FGP</td>\n",
       "      <td>351 -A-DCPA -C-5551</td>\n",
       "      <td>19 diciembre 2018</td>\n",
       "    </tr>\n",
       "    <tr>\n",
       "      <th>4</th>\n",
       "      <td>47525248</td>\n",
       "      <td>FFM</td>\n",
       "      <td>351 -A-DCPA -C-5551</td>\n",
       "      <td>19 diciembre 2018</td>\n",
       "    </tr>\n",
       "    <tr>\n",
       "      <th>5</th>\n",
       "      <td>12951366</td>\n",
       "      <td>IEPS</td>\n",
       "      <td>351 -A-DCPA -C-5551</td>\n",
       "      <td>19 diciembre 2018</td>\n",
       "    </tr>\n",
       "  </tbody>\n",
       "</table>\n",
       "</div>"
      ],
      "text/plain": [
       "       monto concepto               oficio              fecha\n",
       "0  667493503      FGP   351 -A-DGPA -C-267      19 enero 2018\n",
       "1   43139478      FFM   351 -A-DGPA -C-267      19 enero 2018\n",
       "2    9007129     IEPS   351 -A-DGPA -C-267      19 enero 2018\n",
       "3  712355256      FGP  351 -A-DCPA -C-5551  19 diciembre 2018\n",
       "4   47525248      FFM  351 -A-DCPA -C-5551  19 diciembre 2018\n",
       "5   12951366     IEPS  351 -A-DCPA -C-5551  19 diciembre 2018"
      ]
     },
     "execution_count": 11,
     "metadata": {},
     "output_type": "execute_result"
    }
   ],
   "source": [
    "final_df"
   ]
  },
  {
   "cell_type": "code",
   "execution_count": 12,
   "metadata": {},
   "outputs": [
    {
     "name": "stdout",
     "output_type": "stream",
     "text": [
      "<class 'pandas.core.frame.DataFrame'>\n",
      "RangeIndex: 6 entries, 0 to 5\n",
      "Data columns (total 4 columns):\n",
      " #   Column    Non-Null Count  Dtype \n",
      "---  ------    --------------  ----- \n",
      " 0   monto     6 non-null      int32 \n",
      " 1   concepto  6 non-null      object\n",
      " 2   oficio    6 non-null      object\n",
      " 3   fecha     6 non-null      object\n",
      "dtypes: int32(1), object(3)\n",
      "memory usage: 296.0+ bytes\n"
     ]
    }
   ],
   "source": [
    "final_df.info()"
   ]
  }
 ],
 "metadata": {
  "kernelspec": {
   "display_name": "base",
   "language": "python",
   "name": "python3"
  },
  "language_info": {
   "codemirror_mode": {
    "name": "ipython",
    "version": 3
   },
   "file_extension": ".py",
   "mimetype": "text/x-python",
   "name": "python",
   "nbconvert_exporter": "python",
   "pygments_lexer": "ipython3",
   "version": "3.10.10"
  },
  "orig_nbformat": 4
 },
 "nbformat": 4,
 "nbformat_minor": 2
}
