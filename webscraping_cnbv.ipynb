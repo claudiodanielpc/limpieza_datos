{
 "cells": [
  {
   "cell_type": "code",
   "execution_count": 4,
   "metadata": {},
   "outputs": [],
   "source": [
    "from bs4 import BeautifulSoup\n",
    "import requests\n",
    "import pandas as pd"
   ]
  },
  {
   "cell_type": "code",
   "execution_count": 5,
   "metadata": {},
   "outputs": [],
   "source": [
    "headers = {\n",
    "    'User-Agent': 'Mozilla/5.0 (Windows NT 10.0; Win64; x64) AppleWebKit/537.36 (KHTML, like Gecko) Chrome/58.0.3029.110 Safari/537.3'}"
   ]
  },
  {
   "cell_type": "code",
   "execution_count": 6,
   "metadata": {},
   "outputs": [],
   "source": [
    " url=\"https://pes.cnbv.gob.mx/Consulta/ConsultaEntidad?entidad=&nombreCorto=&subsectorName=NULL&Buscar=&DXScript=1_145%2C1_81%2C1_80%2C14_25%2C14_2%2C1_137%2C1_130%2C1_88%2C14_7%2C1_78%2C1_128%2C1_90%2C1_89%2C14_8%2C1_143%2C1_114%2C1_144%2C1_109%2C14_9%2C1_136%2C1_135%2C1_121%2C14_24%2C1_131%2C1_85%2C1_110%2C1_99%2C1_106%2C1_140%2C1_118%2C1_120%2C14_15%2C1_129%2C1_123%2C14_16%2C14_18%2C1_127%2C1_134%2C1_138%2C14_21%2C14_23%2C1_87%2C5_5%2C5_4%2C4_11%2C4_10%2C4_6%2C4_7%2C4_9%2C14_12%2C4_5%2C1_98%2C1_101%2C4_12%2C4_13%2C1_97%2C1_91%2C1_139%2C1_115%2C14_11%2C1_126%2C1_133%2C7_51%2C1_83%2C7_53%2C14_17%2C1_92%2C1_95%2C1_102%2C14_0%2C1_105%2C1_93%2C14_1%2C1_94%2C14_3%2C1_96%2C1_107%2C14_5%2C1_119%2C1_104%2C14_13%2C14_14%2C1_103%2C1_108%2C10_2%2C10_1%2C10_3%2C10_4%2C14_4%2C9_1%2C9_5%2C14_19%2C9_4%2C8_10%2C8_17%2C8_24%2C8_26%2C8_9%2C8_12%2C8_13%2C8_18%2C14_20%2C8_21%2C8_23%2C8_22%2C8_16%2C8_19%2C8_20%2C8_14%2C8_15%2C8_25%2C8_11%2C6_12%2C14_22\"\n"
   ]
  },
  {
   "cell_type": "code",
   "execution_count": 7,
   "metadata": {},
   "outputs": [
    {
     "name": "stderr",
     "output_type": "stream",
     "text": [
      "c:\\Users\\claud\\miniconda3\\Lib\\site-packages\\urllib3\\connectionpool.py:1099: InsecureRequestWarning: Unverified HTTPS request is being made to host 'pes.cnbv.gob.mx'. Adding certificate verification is strongly advised. See: https://urllib3.readthedocs.io/en/latest/advanced-usage.html#tls-warnings\n",
      "  warnings.warn(\n"
     ]
    },
    {
     "data": {
      "text/plain": [
       "200"
      ]
     },
     "execution_count": 7,
     "metadata": {},
     "output_type": "execute_result"
    }
   ],
   "source": [
    "#Request get con tiempo de espera\n",
    "r = requests.get(url, verify=False, headers=headers)\n",
    "r.status_code"
   ]
  },
  {
   "cell_type": "code",
   "execution_count": 8,
   "metadata": {},
   "outputs": [],
   "source": [
    "#Parseo de la pagina\n",
    "soup = BeautifulSoup(r.text, 'html.parser')"
   ]
  },
  {
   "cell_type": "code",
   "execution_count": 9,
   "metadata": {},
   "outputs": [],
   "source": [
    "#obtener la informacion de la tabla\n",
    "table = soup.find('table', attrs={'class':'dxgvTable_Office2010Silver'})"
   ]
  },
  {
   "cell_type": "code",
   "execution_count": 10,
   "metadata": {},
   "outputs": [],
   "source": [
    "#Limpiar información\n",
    "rows = table.find_all('tr')\n",
    "data = [[ele.text.strip() for ele in row.find_all('td')] for row in rows[1:]]\n",
    "#Convertir a dataframe\n",
    "df = pd.DataFrame(data)\n",
    "#Eliminar registro innecesarios\n",
    "df = df.drop(df.index[0:15])\n",
    "df = df[df[4].notna()]\n",
    "df = df[df[4] != \"\"]\n",
    "#Dejar 5 columnas\n",
    "df = df.iloc[:, 0:4]\n",
    "#Renombrar columnas\n",
    "df.columns = [\"casfim\", \"razon_social\", \"nombre_corto\", \"sector\"]"
   ]
  },
  {
   "cell_type": "code",
   "execution_count": 11,
   "metadata": {},
   "outputs": [
    {
     "data": {
      "text/html": [
       "<div>\n",
       "<style scoped>\n",
       "    .dataframe tbody tr th:only-of-type {\n",
       "        vertical-align: middle;\n",
       "    }\n",
       "\n",
       "    .dataframe tbody tr th {\n",
       "        vertical-align: top;\n",
       "    }\n",
       "\n",
       "    .dataframe thead th {\n",
       "        text-align: right;\n",
       "    }\n",
       "</style>\n",
       "<table border=\"1\" class=\"dataframe\">\n",
       "  <thead>\n",
       "    <tr style=\"text-align: right;\">\n",
       "      <th></th>\n",
       "      <th>casfim</th>\n",
       "      <th>razon_social</th>\n",
       "      <th>nombre_corto</th>\n",
       "      <th>sector</th>\n",
       "    </tr>\n",
       "  </thead>\n",
       "  <tbody>\n",
       "    <tr>\n",
       "      <th>15</th>\n",
       "      <td>053382</td>\n",
       "      <td>+TASA LARGO PLAZO, S.A. DE C.V. FONDO DE INVER...</td>\n",
       "      <td>+TASALP</td>\n",
       "      <td>FONDOS DE INVERSIÓN EN INSTRUMENTOS DE DEUDA</td>\n",
       "    </tr>\n",
       "    <tr>\n",
       "      <th>16</th>\n",
       "      <td>053650</td>\n",
       "      <td>+TASA MX, S.A. DE C.V. FONDO DE INVERSIÓN EN I...</td>\n",
       "      <td>+TASAMX</td>\n",
       "      <td>FONDOS DE INVERSIÓN EN INSTRUMENTOS DE DEUDA</td>\n",
       "    </tr>\n",
       "    <tr>\n",
       "      <th>17</th>\n",
       "      <td>053384</td>\n",
       "      <td>+TASA PREVISIONAL, S.A. DE C.V. FONDO DE INVER...</td>\n",
       "      <td>+TASAPR</td>\n",
       "      <td>FONDOS DE INVERSIÓN EN INSTRUMENTOS DE DEUDA</td>\n",
       "    </tr>\n",
       "    <tr>\n",
       "      <th>18</th>\n",
       "      <td>053381</td>\n",
       "      <td>+TASA US, S.A. DE C.V. FONDO DE INVERSIÓN EN I...</td>\n",
       "      <td>+TASAUS</td>\n",
       "      <td>FONDOS DE INVERSIÓN EN INSTRUMENTOS DE DEUDA</td>\n",
       "    </tr>\n",
       "    <tr>\n",
       "      <th>19</th>\n",
       "      <td>053380</td>\n",
       "      <td>+TASA, S.A. DE C.V. FONDO DE INVERSIÓN EN INST...</td>\n",
       "      <td>+TASA</td>\n",
       "      <td>FONDOS DE INVERSIÓN EN INSTRUMENTOS DE DEUDA</td>\n",
       "    </tr>\n",
       "    <tr>\n",
       "      <th>...</th>\n",
       "      <td>...</td>\n",
       "      <td>...</td>\n",
       "      <td>...</td>\n",
       "      <td>...</td>\n",
       "    </tr>\n",
       "    <tr>\n",
       "      <th>4928</th>\n",
       "      <td>0695414</td>\n",
       "      <td>ZUMPT, S.A. DE C.V., SOFOM, E.N.R.</td>\n",
       "      <td></td>\n",
       "      <td>SOCIEDADES FINANCIERAS DE OBJETO MÚLTIPLE, ENT...</td>\n",
       "    </tr>\n",
       "    <tr>\n",
       "      <th>4929</th>\n",
       "      <td>0695808</td>\n",
       "      <td>ZURA FINANCIERA, S.A. DE C.V., SOFOM, E.N.R.</td>\n",
       "      <td></td>\n",
       "      <td>SOCIEDADES FINANCIERAS DE OBJETO MÚLTIPLE, ENT...</td>\n",
       "    </tr>\n",
       "    <tr>\n",
       "      <th>4930</th>\n",
       "      <td>0690592</td>\n",
       "      <td>ZURITA CONSULTORES FINANCIEROS, S.A. DE C.V., ...</td>\n",
       "      <td></td>\n",
       "      <td>SOCIEDADES FINANCIERAS DE OBJETO MÚLTIPLE, ENT...</td>\n",
       "    </tr>\n",
       "    <tr>\n",
       "      <th>4931</th>\n",
       "      <td></td>\n",
       "      <td>ZURITA Y MARRÓN ASESORES INDEPENDIENTES, S.A. ...</td>\n",
       "      <td>ZURITA Y MARRÓN</td>\n",
       "      <td>ASESORES EN INVERSIÓN PERSONAS MORALES</td>\n",
       "    </tr>\n",
       "    <tr>\n",
       "      <th>4932</th>\n",
       "      <td>0695523</td>\n",
       "      <td>ZWOLF RE, S.A.P.I. DE C.V., SOFOM, E.N.R.</td>\n",
       "      <td></td>\n",
       "      <td>SOCIEDADES FINANCIERAS DE OBJETO MÚLTIPLE, ENT...</td>\n",
       "    </tr>\n",
       "  </tbody>\n",
       "</table>\n",
       "<p>4918 rows × 4 columns</p>\n",
       "</div>"
      ],
      "text/plain": [
       "       casfim                                       razon_social  \\\n",
       "15     053382  +TASA LARGO PLAZO, S.A. DE C.V. FONDO DE INVER...   \n",
       "16     053650  +TASA MX, S.A. DE C.V. FONDO DE INVERSIÓN EN I...   \n",
       "17     053384  +TASA PREVISIONAL, S.A. DE C.V. FONDO DE INVER...   \n",
       "18     053381  +TASA US, S.A. DE C.V. FONDO DE INVERSIÓN EN I...   \n",
       "19     053380  +TASA, S.A. DE C.V. FONDO DE INVERSIÓN EN INST...   \n",
       "...       ...                                                ...   \n",
       "4928  0695414                 ZUMPT, S.A. DE C.V., SOFOM, E.N.R.   \n",
       "4929  0695808       ZURA FINANCIERA, S.A. DE C.V., SOFOM, E.N.R.   \n",
       "4930  0690592  ZURITA CONSULTORES FINANCIEROS, S.A. DE C.V., ...   \n",
       "4931           ZURITA Y MARRÓN ASESORES INDEPENDIENTES, S.A. ...   \n",
       "4932  0695523          ZWOLF RE, S.A.P.I. DE C.V., SOFOM, E.N.R.   \n",
       "\n",
       "         nombre_corto                                             sector  \n",
       "15            +TASALP       FONDOS DE INVERSIÓN EN INSTRUMENTOS DE DEUDA  \n",
       "16            +TASAMX       FONDOS DE INVERSIÓN EN INSTRUMENTOS DE DEUDA  \n",
       "17            +TASAPR       FONDOS DE INVERSIÓN EN INSTRUMENTOS DE DEUDA  \n",
       "18            +TASAUS       FONDOS DE INVERSIÓN EN INSTRUMENTOS DE DEUDA  \n",
       "19              +TASA       FONDOS DE INVERSIÓN EN INSTRUMENTOS DE DEUDA  \n",
       "...               ...                                                ...  \n",
       "4928                   SOCIEDADES FINANCIERAS DE OBJETO MÚLTIPLE, ENT...  \n",
       "4929                   SOCIEDADES FINANCIERAS DE OBJETO MÚLTIPLE, ENT...  \n",
       "4930                   SOCIEDADES FINANCIERAS DE OBJETO MÚLTIPLE, ENT...  \n",
       "4931  ZURITA Y MARRÓN             ASESORES EN INVERSIÓN PERSONAS MORALES  \n",
       "4932                   SOCIEDADES FINANCIERAS DE OBJETO MÚLTIPLE, ENT...  \n",
       "\n",
       "[4918 rows x 4 columns]"
      ]
     },
     "execution_count": 11,
     "metadata": {},
     "output_type": "execute_result"
    }
   ],
   "source": [
    "df"
   ]
  },
  {
   "cell_type": "code",
   "execution_count": 12,
   "metadata": {},
   "outputs": [],
   "source": [
    "#Salvar en excel\n",
    "df.to_excel(\"padron_ent_cnbv.xlsx\")"
   ]
  }
 ],
 "metadata": {
  "kernelspec": {
   "display_name": "base",
   "language": "python",
   "name": "python3"
  },
  "language_info": {
   "codemirror_mode": {
    "name": "ipython",
    "version": 3
   },
   "file_extension": ".py",
   "mimetype": "text/x-python",
   "name": "python",
   "nbconvert_exporter": "python",
   "pygments_lexer": "ipython3",
   "version": "3.12.3"
  },
  "orig_nbformat": 4,
  "vscode": {
   "interpreter": {
    "hash": "7f2521f8c852c438ae51a89799ece420e6f028aa659cd11ab73056bc51495ab9"
   }
  }
 },
 "nbformat": 4,
 "nbformat_minor": 2
}
