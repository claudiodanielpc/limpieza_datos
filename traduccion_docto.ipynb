{
 "cells": [
  {
   "cell_type": "code",
   "execution_count": 4,
   "metadata": {},
   "outputs": [],
   "source": [
    "import win32com.client as win32\n",
    "from googletrans import Translator\n",
    "import os"
   ]
  },
  {
   "cell_type": "code",
   "execution_count": 5,
   "metadata": {},
   "outputs": [],
   "source": [
    "os.chdir(\"C:/Users/claudio.pacheco/Downloads\")"
   ]
  },
  {
   "cell_type": "code",
   "execution_count": 15,
   "metadata": {},
   "outputs": [],
   "source": [
    "# Start Microsoft Word\n",
    "word = win32.gencache.EnsureDispatch('Word.Application')\n",
    "word.Visible = False\n",
    "\n",
    "# Open the document\n",
    "doc_path = os.path.join(os.getcwd(), 'AT Suscripcion DGCC.docx')\n",
    "doc = word.Documents.Open(doc_path)\n",
    "\n",
    "page_texts = []\n",
    "number_of_pages = 13\n",
    "\n",
    "for page_number in range(1, number_of_pages + 1):\n",
    "    # Get the start position of the current page\n",
    "    range_start = doc.GoTo(What=win32.constants.wdGoToPage, Which=win32.constants.wdGoToAbsolute, Count=page_number).Start\n",
    "    \n",
    "    # Determine end position\n",
    "    if page_number == number_of_pages:  # if it's the last page\n",
    "        range_end = doc.Content.End\n",
    "    else:\n",
    "        range_end = doc.GoTo(What=win32.constants.wdGoToPage, Which=win32.constants.wdGoToAbsolute, Count=page_number + 1).Start\n",
    "\n",
    "    # Extract text of the current page\n",
    "    page_text = doc.Range(range_start, range_end).Text\n",
    "    page_texts.append(page_text)\n",
    "\n",
    "# Remember to close the document and quit Word\n",
    "doc.Close()\n",
    "word.Quit()\n",
    "\n",
    "# Now, `page_texts` is a list where each item corresponds to the text of a page.\n",
    "# For example, to access the text of the first page, you would use `page_texts[0]`.\n",
    "\n"
   ]
  },
  {
   "cell_type": "code",
   "execution_count": 17,
   "metadata": {},
   "outputs": [
    {
     "data": {
      "text/plain": [
       "13"
      ]
     },
     "execution_count": 17,
     "metadata": {},
     "output_type": "execute_result"
    }
   ],
   "source": [
    "len(page_texts)"
   ]
  },
  {
   "cell_type": "code",
   "execution_count": 18,
   "metadata": {},
   "outputs": [],
   "source": [
    "#Traducir page_texts\n",
    "texto_en=[]\n",
    "for i in range(len(page_texts)):\n",
    "    translator = Translator()\n",
    "    texto_en.append(translator.translate(page_texts[i], dest='en').text)"
   ]
  },
  {
   "cell_type": "code",
   "execution_count": 20,
   "metadata": {},
   "outputs": [],
   "source": [
    "#Transformar en un solo texto\n",
    "texto_en2=''\n",
    "for i in range(len(texto_en)):\n",
    "    texto_en2=texto_en2+texto_en[i]"
   ]
  },
  {
   "cell_type": "code",
   "execution_count": 25,
   "metadata": {},
   "outputs": [],
   "source": [
    "#Save as txt\n",
    "with open('texto_en.txt', 'w') as f:\n",
    "    f.write(texto_en2)\n",
    "    "
   ]
  }
 ],
 "metadata": {
  "kernelspec": {
   "display_name": "base",
   "language": "python",
   "name": "python3"
  },
  "language_info": {
   "codemirror_mode": {
    "name": "ipython",
    "version": 3
   },
   "file_extension": ".py",
   "mimetype": "text/x-python",
   "name": "python",
   "nbconvert_exporter": "python",
   "pygments_lexer": "ipython3",
   "version": "3.10.10"
  },
  "orig_nbformat": 4
 },
 "nbformat": 4,
 "nbformat_minor": 2
}
