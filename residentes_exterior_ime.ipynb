{
 "cells": [
  {
   "cell_type": "code",
   "execution_count": 565,
   "metadata": {},
   "outputs": [],
   "source": [
    "import os\n",
    "import zipfile\n",
    "import pandas as pd\n",
    "import glob"
   ]
  },
  {
   "cell_type": "code",
   "execution_count": 566,
   "metadata": {},
   "outputs": [],
   "source": [
    "#Cambiar directorio de trabajo y crear carpeta para guardar los archivos\n",
    "os.chdir(\"D:/\")\n",
    "os.makedirs(\"ine\", exist_ok=True)\n",
    "os.chdir(\"ine\")"
   ]
  },
  {
   "cell_type": "code",
   "execution_count": 567,
   "metadata": {},
   "outputs": [
    {
     "data": {
      "text/plain": [
       "['Africa_2021',\n",
       " 'Africa_2021.zip',\n",
       " 'America_2021',\n",
       " 'America_2021.zip',\n",
       " 'Asia_2021',\n",
       " 'Asia_2021.zip',\n",
       " 'Europa_2021',\n",
       " 'Europa_2021.zip',\n",
       " 'Oceania_2021',\n",
       " 'Oceania_2021.zip',\n",
       " 'total_residentes_2021.xlsx']"
      ]
     },
     "execution_count": 567,
     "metadata": {},
     "output_type": "execute_result"
    }
   ],
   "source": [
    "#Ver archivos en zip\n",
    "#PRIMERO SE TIENEN QUE DESCARGAR TODOS LOS ARCHIVOS DE LA PÁGINA: https://ime.gob.mx/estadisticas\n",
    "lista_zip = os.listdir()\n",
    "for archivo in lista_zip:\n",
    "    if archivo.endswith(\".zip\"):\n",
    "        with zipfile.ZipFile(archivo) as zf:\n",
    "            zf.extractall()\n",
    "\n",
    "#Revisar archivos en directorio\n",
    "os.listdir()"
   ]
  },
  {
   "cell_type": "code",
   "execution_count": 568,
   "metadata": {},
   "outputs": [],
   "source": [
    "#Función para obtener datos de residentes\n",
    "def datos(direccion):\n",
    "   general=pd.DataFrame()\n",
    "   for fname in glob.glob(direccion):\n",
    "      df=pd.read_excel(fname, header=7, usecols=\"A:B\")\n",
    "      df=df.head(1)\n",
    "      df['nombre']=fname\n",
    "      df.columns= df.columns.str.lower()\n",
    "      df.rename(columns={ df.columns[1]: \"residentes\" }, inplace = True)\n",
    "      general=pd.concat([general,df])\n",
    "   return general"
   ]
  },
  {
   "cell_type": "code",
   "execution_count": 569,
   "metadata": {},
   "outputs": [],
   "source": [
    "#Directorios de archivos\n",
    "dir1 = r\"D:\\ine\\America_2021\\*.xlsx\"\n",
    "dir2=r\"D:\\ine\\Europa_2021\\*.xlsx\"\n",
    "dir3=r\"D:\\ine\\Asia_2021\\*.xlsx\"\n",
    "dir4=r\"D:\\ine\\Oceania_2021\\*.xlsx\"\n",
    "dir5=r\"D:\\ine\\Africa_2021\\*.xlsx\""
   ]
  },
  {
   "cell_type": "code",
   "execution_count": 570,
   "metadata": {},
   "outputs": [],
   "source": [
    "#Datos\n",
    "df1=datos(dir1)\n",
    "df2=datos(dir2)\n",
    "df3=datos(dir3)\n",
    "df4=datos(dir4)\n",
    "df5=datos(dir5)\n",
    "total=pd.concat([df1,df2,df3,df4,df5])"
   ]
  },
  {
   "cell_type": "code",
   "execution_count": 571,
   "metadata": {},
   "outputs": [],
   "source": [
    "#limpieza de total\n",
    "#Obtenemos nombre del país y continente\n",
    "total[\"continente\"]=total[\"nombre\"].str.split(\"_\",expand=True)[0]\n",
    "total[\"pais\"]=total[\"nombre\"].str.split(\"_\",expand=True)[1]\n",
    "total[\"continente\"]=total[\"continente\"].str.replace(r'D:\\\\ine\\\\', '', regex=True)\n",
    "total[\"pais\"]=total[\"pais\"].str.replace(r'2021\\\\', '', regex=True)\n",
    "#Llenamos NAs\n",
    "total[\"generales\"]= total[\"generales\"].fillna(\"Total de residentes\")\n",
    "#Incorporamos dato de primera generación en Estados Unidos\n",
    "total.loc[total[\"pais\"] == \"Estados Unidos\", 'residentes'] = 11750000\n",
    "#Corregimos dato de Brasil\n",
    "total.loc[total[\"pais\"] == \"Brasil\", 'residentes'] = 868\n",
    "#Dejamos columnas que nos interesan\n",
    "total.drop(['generación', 'nombre'], axis=1, inplace=True)"
   ]
  },
  {
   "cell_type": "code",
   "execution_count": 572,
   "metadata": {},
   "outputs": [
    {
     "data": {
      "text/html": [
       "<div>\n",
       "<style scoped>\n",
       "    .dataframe tbody tr th:only-of-type {\n",
       "        vertical-align: middle;\n",
       "    }\n",
       "\n",
       "    .dataframe tbody tr th {\n",
       "        vertical-align: top;\n",
       "    }\n",
       "\n",
       "    .dataframe thead th {\n",
       "        text-align: right;\n",
       "    }\n",
       "</style>\n",
       "<table border=\"1\" class=\"dataframe\">\n",
       "  <thead>\n",
       "    <tr style=\"text-align: right;\">\n",
       "      <th></th>\n",
       "      <th>generales</th>\n",
       "      <th>residentes</th>\n",
       "      <th>continente</th>\n",
       "      <th>pais</th>\n",
       "    </tr>\n",
       "  </thead>\n",
       "  <tbody>\n",
       "    <tr>\n",
       "      <th>0</th>\n",
       "      <td>Total de residentes</td>\n",
       "      <td>4</td>\n",
       "      <td>America</td>\n",
       "      <td>Antigua y Barbuda</td>\n",
       "    </tr>\n",
       "    <tr>\n",
       "      <th>0</th>\n",
       "      <td>Total de residentes</td>\n",
       "      <td>7828</td>\n",
       "      <td>America</td>\n",
       "      <td>Argentina</td>\n",
       "    </tr>\n",
       "    <tr>\n",
       "      <th>0</th>\n",
       "      <td>Total de residentes</td>\n",
       "      <td>77</td>\n",
       "      <td>America</td>\n",
       "      <td>Aruba</td>\n",
       "    </tr>\n",
       "    <tr>\n",
       "      <th>0</th>\n",
       "      <td>Total de residentes</td>\n",
       "      <td>16</td>\n",
       "      <td>America</td>\n",
       "      <td>Bahamas</td>\n",
       "    </tr>\n",
       "    <tr>\n",
       "      <th>0</th>\n",
       "      <td>Total de residentes</td>\n",
       "      <td>3</td>\n",
       "      <td>America</td>\n",
       "      <td>Barbados</td>\n",
       "    </tr>\n",
       "    <tr>\n",
       "      <th>...</th>\n",
       "      <td>...</td>\n",
       "      <td>...</td>\n",
       "      <td>...</td>\n",
       "      <td>...</td>\n",
       "    </tr>\n",
       "    <tr>\n",
       "      <th>0</th>\n",
       "      <td>Total de residentes</td>\n",
       "      <td>22</td>\n",
       "      <td>Africa</td>\n",
       "      <td>Tanzania</td>\n",
       "    </tr>\n",
       "    <tr>\n",
       "      <th>0</th>\n",
       "      <td>Total de residentes</td>\n",
       "      <td>15</td>\n",
       "      <td>Africa</td>\n",
       "      <td>Túnez</td>\n",
       "    </tr>\n",
       "    <tr>\n",
       "      <th>0</th>\n",
       "      <td>Total de residentes</td>\n",
       "      <td>11</td>\n",
       "      <td>Africa</td>\n",
       "      <td>Uganda</td>\n",
       "    </tr>\n",
       "    <tr>\n",
       "      <th>0</th>\n",
       "      <td>Total de residentes</td>\n",
       "      <td>5</td>\n",
       "      <td>Africa</td>\n",
       "      <td>Zambia</td>\n",
       "    </tr>\n",
       "    <tr>\n",
       "      <th>0</th>\n",
       "      <td>Total de residentes</td>\n",
       "      <td>1</td>\n",
       "      <td>Africa</td>\n",
       "      <td>Zimbabwe</td>\n",
       "    </tr>\n",
       "  </tbody>\n",
       "</table>\n",
       "<p>158 rows × 4 columns</p>\n",
       "</div>"
      ],
      "text/plain": [
       "              generales residentes continente               pais\n",
       "0   Total de residentes          4    America  Antigua y Barbuda\n",
       "0   Total de residentes       7828    America          Argentina\n",
       "0   Total de residentes         77    America              Aruba\n",
       "0   Total de residentes         16    America            Bahamas\n",
       "0   Total de residentes          3    America           Barbados\n",
       "..                  ...        ...        ...                ...\n",
       "0   Total de residentes         22     Africa           Tanzania\n",
       "0   Total de residentes         15     Africa              Túnez\n",
       "0   Total de residentes         11     Africa             Uganda\n",
       "0   Total de residentes          5     Africa             Zambia\n",
       "0   Total de residentes          1     Africa           Zimbabwe\n",
       "\n",
       "[158 rows x 4 columns]"
      ]
     },
     "execution_count": 572,
     "metadata": {},
     "output_type": "execute_result"
    }
   ],
   "source": [
    "total"
   ]
  },
  {
   "cell_type": "code",
   "execution_count": 573,
   "metadata": {},
   "outputs": [
    {
     "name": "stdout",
     "output_type": "stream",
     "text": [
      "Total de mexicanos en el exterior 2021:  12145143\n",
      "Total de mexicanos en el exterior 2021 por continente:  continente\n",
      "America    11967321\n",
      "Europa       149418\n",
      "Asia          17942\n",
      "Oceania        9449\n",
      "Africa         1013\n",
      "Name: residentes, dtype: object\n"
     ]
    }
   ],
   "source": [
    "print(\"Total de mexicanos en el exterior 2021: \",total[\"residentes\"].sum())\n",
    "print(\"Total de mexicanos en el exterior 2021 por continente: \",total[\"residentes\"].groupby(total[\"continente\"]).\n",
    "sum().sort_values(ascending=False))"
   ]
  },
  {
   "cell_type": "code",
   "execution_count": 574,
   "metadata": {},
   "outputs": [],
   "source": [
    "#Exportar a excel\n",
    "total.to_excel(\"total_residentes_2021.xlsx\", encoding='utf-8', index=False)"
   ]
  }
 ],
 "metadata": {
  "kernelspec": {
   "display_name": "Python 3.9.11 ('base')",
   "language": "python",
   "name": "python3"
  },
  "language_info": {
   "codemirror_mode": {
    "name": "ipython",
    "version": 3
   },
   "file_extension": ".py",
   "mimetype": "text/x-python",
   "name": "python",
   "nbconvert_exporter": "python",
   "pygments_lexer": "ipython3",
   "version": "3.9.11"
  },
  "orig_nbformat": 4,
  "vscode": {
   "interpreter": {
    "hash": "7f2521f8c852c438ae51a89799ece420e6f028aa659cd11ab73056bc51495ab9"
   }
  }
 },
 "nbformat": 4,
 "nbformat_minor": 2
}
