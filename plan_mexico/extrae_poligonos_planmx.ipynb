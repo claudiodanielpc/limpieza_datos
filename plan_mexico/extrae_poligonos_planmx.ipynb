{
 "cells": [
  {
   "metadata": {},
   "cell_type": "markdown",
   "source": [
    "### Extraer polígonos de Polos del bienestar\n",
    "\n",
    "Este ejercicio se hace para los polígonos de los polos del bienestar establecidos en el Plan México. Los polígonos se localizan en https://www.planmexico.gob.mx/polos"
   ],
   "id": "84cb5ae1c4436fde"
  },
  {
   "metadata": {
    "ExecuteTime": {
     "end_time": "2025-04-22T19:28:44.250361Z",
     "start_time": "2025-04-22T19:28:43.493245Z"
    }
   },
   "cell_type": "code",
   "source": [
    "import pandas as pd\n",
    "import requests\n",
    "import os\n",
    "import geopandas as gpd"
   ],
   "id": "2d587b1fb434bbd2",
   "outputs": [],
   "execution_count": 1
  },
  {
   "metadata": {
    "ExecuteTime": {
     "end_time": "2025-04-22T19:28:44.256725Z",
     "start_time": "2025-04-22T19:28:44.250361Z"
    }
   },
   "cell_type": "code",
   "source": [
    "url_basica=\"https://www.datosgeoespaciales.adyt.gob.mx/UPLOAD-MAPAS/mapa_planmexico/geodata/p_\"\n",
    "fin=\".pmtiles\"\n",
    "#Crea directorio \"capas\" para descarga de archivos\n",
    "if not os.path.exists(\"capas\"):\n",
    "    os.makedirs(\"capas\")"
   ],
   "id": "d14368f7dee1b58b",
   "outputs": [],
   "execution_count": 2
  },
  {
   "metadata": {
    "ExecuteTime": {
     "end_time": "2025-04-22T19:28:52.311338Z",
     "start_time": "2025-04-22T19:28:44.397273Z"
    }
   },
   "cell_type": "code",
   "source": [
    "#Descargar\n",
    "for i in range(1,13):\n",
    "    url=url_basica+str(i)+fin\n",
    "    response = requests.get(url)\n",
    "    with open(\"capas/p_\"+str(i)+\".pmtiles\", \"wb\") as f:\n",
    "        f.write(response.content)"
   ],
   "id": "ab67d677a947fd14",
   "outputs": [],
   "execution_count": 3
  },
  {
   "metadata": {
    "ExecuteTime": {
     "end_time": "2025-04-22T19:28:52.336117Z",
     "start_time": "2025-04-22T19:28:52.325434Z"
    }
   },
   "cell_type": "code",
   "source": [
    "#Sectores de cada polo para corrección respecto a archivos originales\n",
    "\n",
    "sectores_dict = {\n",
    "    \"p_1\": \"semicon,electromovilidad,bienes\",\n",
    "    \"p_2\": \"farma,petroquimica\",\n",
    "    \"p_3\": \"agro,textil,electromovilidad,bienes,farma,petroquimica,aeroespacial\",\n",
    "    \"p_4\": \"bienes\",\n",
    "    \"p_5\": \"electromovilidad,bienes,semicon,aeroespacial\",\n",
    "    \"p_6\": \"textil,agro,electromovilidad,bienes\",\n",
    "    \"p_7\": \"textil,agro,electromovilidad,bienes,farma,semicon,petroquimica\",\n",
    "    \"p_8\": \"textil,agro,farma,petroquimica,aeroespacial\",\n",
    "    \"p_9\": \"textil,agro,electromovilidad,bienes,petroquimica,aeroespacial\",\n",
    "    \"p_10\": \"agro,bienes,aeroespacial\",\n",
    "    \"p_11\": \"agro,bienes\",\n",
    "    \"p_12\": \"agro,aeroespacial\"\n",
    "}"
   ],
   "id": "4bf9c8e7a5003691",
   "outputs": [],
   "execution_count": 4
  },
  {
   "metadata": {
    "ExecuteTime": {
     "end_time": "2025-04-22T20:06:43.158099Z",
     "start_time": "2025-04-22T20:06:27.930410Z"
    }
   },
   "cell_type": "code",
   "source": [
    "# Carpeta con archivos\n",
    "carpeta = \"capas\"\n",
    "list_archivos = os.listdir(carpeta)\n",
    "list_gdf = []\n",
    "\n",
    "# Recorrer archivos\n",
    "for archivo in list_archivos:\n",
    "    if archivo.endswith(\".pmtiles\"):\n",
    "        gdf = gpd.read_file(os.path.join(carpeta, archivo))\n",
    "\n",
    "        # Quitar cve_sector si existe\n",
    "        if 'cve_sector' in gdf.columns:\n",
    "            gdf = gdf.drop(columns='cve_sector')\n",
    "\n",
    "        # Determinar clave del archivo\n",
    "        clave = archivo.split(\".\")[0]\n",
    "\n",
    "        # Caso especial para p_10\n",
    "        if clave == \"p_10\":\n",
    "            columnas = ['geometry', 'mvt_id'] if 'mvt_id' in gdf.columns else ['geometry']\n",
    "            gdf = gdf[columnas]\n",
    "            gdf['corredor'] = \"Golfo\"\n",
    "            gdf['id'] = 10\n",
    "            gdf['nombre'] = \"Golfo\"\n",
    "\n",
    "        # Agregar o corregir sector_estrategico si está en el diccionario\n",
    "        if clave in sectores_dict:\n",
    "            gdf['sector_estrategico'] = sectores_dict[clave]\n",
    "\n",
    "        list_gdf.append(gdf)\n",
    "\n",
    "# Concatenar todo\n",
    "poligonos = pd.concat(list_gdf, ignore_index=True)\n",
    "#Eliminar si la geografía es un punto\n",
    "poligonos = poligonos[poligonos.geometry.type != 'Point']\n",
    "#Cambiar proyección a EPSG:4326\n",
    "poligonos = poligonos.to_crs(epsg=3857)\n",
    "#Transformar multipolígonos a polígonos\n",
    "poligonos = poligonos.explode()\n",
    "print(poligonos.crs)"
   ],
   "id": "d3b588c5e3287400",
   "outputs": [
    {
     "name": "stdout",
     "output_type": "stream",
     "text": [
      "EPSG:3857\n"
     ]
    }
   ],
   "execution_count": 19
  },
  {
   "metadata": {
    "ExecuteTime": {
     "end_time": "2025-04-22T20:06:50.472430Z",
     "start_time": "2025-04-22T20:06:50.453160Z"
    }
   },
   "cell_type": "code",
   "source": "poligonos",
   "id": "c23bab1a5270c5c5",
   "outputs": [
    {
     "data": {
      "text/plain": [
       "       mvt_id           corredor  id          nombre  \\\n",
       "0         NaN  Franja fronteriza   1  Frontera Norte   \n",
       "1         NaN  Franja fronteriza   1  Frontera Norte   \n",
       "2         NaN  Franja fronteriza   1  Frontera Norte   \n",
       "3         NaN  Franja fronteriza   1  Frontera Norte   \n",
       "4         NaN  Franja fronteriza   1  Frontera Norte   \n",
       "...       ...                ...  ..             ...   \n",
       "63800     NaN             Centro   9          Centro   \n",
       "63801     NaN             Centro   9          Centro   \n",
       "63802     NaN             Centro   9          Centro   \n",
       "63803     NaN             Centro   9          Centro   \n",
       "63804     NaN             Centro   9          Centro   \n",
       "\n",
       "                                      sector_estrategico  \\\n",
       "0                        semicon,electromovilidad,bienes   \n",
       "1                        semicon,electromovilidad,bienes   \n",
       "2                        semicon,electromovilidad,bienes   \n",
       "3                        semicon,electromovilidad,bienes   \n",
       "4                        semicon,electromovilidad,bienes   \n",
       "...                                                  ...   \n",
       "63800  textil,agro,electromovilidad,bienes,petroquimi...   \n",
       "63801  textil,agro,electromovilidad,bienes,petroquimi...   \n",
       "63802  textil,agro,electromovilidad,bienes,petroquimi...   \n",
       "63803  textil,agro,electromovilidad,bienes,petroquimi...   \n",
       "63804  textil,agro,electromovilidad,bienes,petroquimi...   \n",
       "\n",
       "                                                geometry  \n",
       "0      POLYGON ((-12584955.413 3660741.268, -12601714...  \n",
       "1      POLYGON ((-12562578.473 3657225.165, -12562578...  \n",
       "2      POLYGON ((-12562578.473 3717897.056, -12523442...  \n",
       "3      POLYGON ((-12523442.714 3735286.48, -12523442....  \n",
       "4      POLYGON ((-12562578.473 3749771.297, -12562578...  \n",
       "...                                                  ...  \n",
       "63800  POLYGON ((-11350927.364 2064774.336, -11350793...  \n",
       "63801  POLYGON ((-11323123.395 2109308.459, -11322693...  \n",
       "63802  POLYGON ((-11349245.75 2064248.831, -11349092....  \n",
       "63803  POLYGON ((-11310234.201 2074195.2, -11271098.4...  \n",
       "63804  POLYGON ((-11309966.672 2102410.018, -11309832...  \n",
       "\n",
       "[65227 rows x 6 columns]"
      ],
      "text/html": [
       "<div>\n",
       "<style scoped>\n",
       "    .dataframe tbody tr th:only-of-type {\n",
       "        vertical-align: middle;\n",
       "    }\n",
       "\n",
       "    .dataframe tbody tr th {\n",
       "        vertical-align: top;\n",
       "    }\n",
       "\n",
       "    .dataframe thead th {\n",
       "        text-align: right;\n",
       "    }\n",
       "</style>\n",
       "<table border=\"1\" class=\"dataframe\">\n",
       "  <thead>\n",
       "    <tr style=\"text-align: right;\">\n",
       "      <th></th>\n",
       "      <th>mvt_id</th>\n",
       "      <th>corredor</th>\n",
       "      <th>id</th>\n",
       "      <th>nombre</th>\n",
       "      <th>sector_estrategico</th>\n",
       "      <th>geometry</th>\n",
       "    </tr>\n",
       "  </thead>\n",
       "  <tbody>\n",
       "    <tr>\n",
       "      <th>0</th>\n",
       "      <td>NaN</td>\n",
       "      <td>Franja fronteriza</td>\n",
       "      <td>1</td>\n",
       "      <td>Frontera Norte</td>\n",
       "      <td>semicon,electromovilidad,bienes</td>\n",
       "      <td>POLYGON ((-12584955.413 3660741.268, -12601714...</td>\n",
       "    </tr>\n",
       "    <tr>\n",
       "      <th>1</th>\n",
       "      <td>NaN</td>\n",
       "      <td>Franja fronteriza</td>\n",
       "      <td>1</td>\n",
       "      <td>Frontera Norte</td>\n",
       "      <td>semicon,electromovilidad,bienes</td>\n",
       "      <td>POLYGON ((-12562578.473 3657225.165, -12562578...</td>\n",
       "    </tr>\n",
       "    <tr>\n",
       "      <th>2</th>\n",
       "      <td>NaN</td>\n",
       "      <td>Franja fronteriza</td>\n",
       "      <td>1</td>\n",
       "      <td>Frontera Norte</td>\n",
       "      <td>semicon,electromovilidad,bienes</td>\n",
       "      <td>POLYGON ((-12562578.473 3717897.056, -12523442...</td>\n",
       "    </tr>\n",
       "    <tr>\n",
       "      <th>3</th>\n",
       "      <td>NaN</td>\n",
       "      <td>Franja fronteriza</td>\n",
       "      <td>1</td>\n",
       "      <td>Frontera Norte</td>\n",
       "      <td>semicon,electromovilidad,bienes</td>\n",
       "      <td>POLYGON ((-12523442.714 3735286.48, -12523442....</td>\n",
       "    </tr>\n",
       "    <tr>\n",
       "      <th>4</th>\n",
       "      <td>NaN</td>\n",
       "      <td>Franja fronteriza</td>\n",
       "      <td>1</td>\n",
       "      <td>Frontera Norte</td>\n",
       "      <td>semicon,electromovilidad,bienes</td>\n",
       "      <td>POLYGON ((-12562578.473 3749771.297, -12562578...</td>\n",
       "    </tr>\n",
       "    <tr>\n",
       "      <th>...</th>\n",
       "      <td>...</td>\n",
       "      <td>...</td>\n",
       "      <td>...</td>\n",
       "      <td>...</td>\n",
       "      <td>...</td>\n",
       "      <td>...</td>\n",
       "    </tr>\n",
       "    <tr>\n",
       "      <th>63800</th>\n",
       "      <td>NaN</td>\n",
       "      <td>Centro</td>\n",
       "      <td>9</td>\n",
       "      <td>Centro</td>\n",
       "      <td>textil,agro,electromovilidad,bienes,petroquimi...</td>\n",
       "      <td>POLYGON ((-11350927.364 2064774.336, -11350793...</td>\n",
       "    </tr>\n",
       "    <tr>\n",
       "      <th>63801</th>\n",
       "      <td>NaN</td>\n",
       "      <td>Centro</td>\n",
       "      <td>9</td>\n",
       "      <td>Centro</td>\n",
       "      <td>textil,agro,electromovilidad,bienes,petroquimi...</td>\n",
       "      <td>POLYGON ((-11323123.395 2109308.459, -11322693...</td>\n",
       "    </tr>\n",
       "    <tr>\n",
       "      <th>63802</th>\n",
       "      <td>NaN</td>\n",
       "      <td>Centro</td>\n",
       "      <td>9</td>\n",
       "      <td>Centro</td>\n",
       "      <td>textil,agro,electromovilidad,bienes,petroquimi...</td>\n",
       "      <td>POLYGON ((-11349245.75 2064248.831, -11349092....</td>\n",
       "    </tr>\n",
       "    <tr>\n",
       "      <th>63803</th>\n",
       "      <td>NaN</td>\n",
       "      <td>Centro</td>\n",
       "      <td>9</td>\n",
       "      <td>Centro</td>\n",
       "      <td>textil,agro,electromovilidad,bienes,petroquimi...</td>\n",
       "      <td>POLYGON ((-11310234.201 2074195.2, -11271098.4...</td>\n",
       "    </tr>\n",
       "    <tr>\n",
       "      <th>63804</th>\n",
       "      <td>NaN</td>\n",
       "      <td>Centro</td>\n",
       "      <td>9</td>\n",
       "      <td>Centro</td>\n",
       "      <td>textil,agro,electromovilidad,bienes,petroquimi...</td>\n",
       "      <td>POLYGON ((-11309966.672 2102410.018, -11309832...</td>\n",
       "    </tr>\n",
       "  </tbody>\n",
       "</table>\n",
       "<p>65227 rows × 6 columns</p>\n",
       "</div>"
      ]
     },
     "execution_count": 20,
     "metadata": {},
     "output_type": "execute_result"
    }
   ],
   "execution_count": 20
  },
  {
   "metadata": {
    "ExecuteTime": {
     "end_time": "2025-04-22T20:07:59.286926Z",
     "start_time": "2025-04-22T20:07:48.795332Z"
    }
   },
   "cell_type": "code",
   "source": [
    "#Salvar geojson\n",
    "poligonos.to_file(\"poligonos_planmx.geojson\", driver='GeoJSON')"
   ],
   "id": "93fba422d166b634",
   "outputs": [],
   "execution_count": 22
  }
 ],
 "metadata": {
  "kernelspec": {
   "name": "python3",
   "language": "python",
   "display_name": "Python 3 (ipykernel)"
  }
 },
 "nbformat": 5,
 "nbformat_minor": 9
}
