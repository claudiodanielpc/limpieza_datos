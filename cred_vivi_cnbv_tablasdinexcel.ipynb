{
 "cells": [
  {
   "cell_type": "code",
   "execution_count": 11,
   "metadata": {},
   "outputs": [],
   "source": [
    "import pandas as pd\n",
    "import win32com.client as win32\n",
    "import os"
   ]
  },
  {
   "cell_type": "code",
   "execution_count": 12,
   "metadata": {},
   "outputs": [],
   "source": [
    "#url=\"https://portafolioinfdoctos.cnbv.gob.mx/Documentacion/minfo/040_13a_R3B.xls\"\n",
    "url=\"https://portafolioinfdoctos.cnbv.gob.mx/Documentacion/minfo/040_13b_R1.xls\""
   ]
  },
  {
   "cell_type": "code",
   "execution_count": 13,
   "metadata": {},
   "outputs": [],
   "source": [
    "excel = win32.gencache.EnsureDispatch('Excel.Application')"
   ]
  },
  {
   "cell_type": "code",
   "execution_count": 14,
   "metadata": {},
   "outputs": [],
   "source": [
    "wb = excel.Workbooks.Open(url)"
   ]
  },
  {
   "cell_type": "code",
   "execution_count": 15,
   "metadata": {},
   "outputs": [
    {
     "name": "stdout",
     "output_type": "stream",
     "text": [
      "MINFO\n",
      "Notas\n",
      "BD\n",
      "Formato\n",
      "Query\n",
      "Notas T\n",
      "Calidad de Información\n"
     ]
    }
   ],
   "source": [
    "#Imprimir el nombre de las hojas del libro de excel\n",
    "for sheet in wb.Worksheets:\n",
    "    print(sheet.Name)"
   ]
  },
  {
   "cell_type": "code",
   "execution_count": 16,
   "metadata": {},
   "outputs": [],
   "source": [
    "#Eliminar filtro de la tabla dinámica de la hoja \"BD\" \n",
    "pvtTable = wb.Sheets(\"BD\").Range(\"G6\").PivotTable"
   ]
  },
  {
   "cell_type": "code",
   "execution_count": 17,
   "metadata": {},
   "outputs": [
    {
     "name": "stdout",
     "output_type": "stream",
     "text": [
      "['cve_destino_credito_grupo', '8.0', 'cve_institucion', '040138', 'cve_periodo', '202112.0']\n"
     ]
    }
   ],
   "source": [
    "page_range_item = []\n",
    "for i in pvtTable.PageRange:\n",
    "    page_range_item.append(str(i))\n",
    "    \n",
    "print(page_range_item)"
   ]
  },
  {
   "cell_type": "code",
   "execution_count": 18,
   "metadata": {},
   "outputs": [],
   "source": [
    "#Limpiar filtros de la tabla dinámica\n",
    "\n",
    "filtros=[\"cve_periodo\",\"cve_institucion\",\"cve_destino_credito_grupo\"]\n",
    "\n",
    "#cve_destino_credito_grupo a excluir\n",
    "bye = [\"8\",\"9\"]\n",
    "\n",
    "for variables in filtros:\n",
    "    pvtTable.PivotFields(variables).ClearAllFilters()\n",
    "#Filtrar cve_destino_credito_grupo\n",
    "for elementos in bye:\n",
    "    pvtTable.PivotFields(\"cve_destino_credito_grupo\").PivotItems(elementos).Visible = False\n",
    "\n",
    "#Eliminar la variable id de la tabla dinámica\n",
    "pvtTable.PivotFields(\"cve_periodo\").Orientation = 1\n",
    "#Eliminar la variable id de la tabla dinámica\n",
    "pvtTable.PivotFields(\"id\").Orientation = 0"
   ]
  },
  {
   "cell_type": "code",
   "execution_count": 19,
   "metadata": {},
   "outputs": [
    {
     "data": {
      "text/html": [
       "<div>\n",
       "<style scoped>\n",
       "    .dataframe tbody tr th:only-of-type {\n",
       "        vertical-align: middle;\n",
       "    }\n",
       "\n",
       "    .dataframe tbody tr th {\n",
       "        vertical-align: top;\n",
       "    }\n",
       "\n",
       "    .dataframe thead th {\n",
       "        text-align: right;\n",
       "    }\n",
       "</style>\n",
       "<table border=\"1\" class=\"dataframe\">\n",
       "  <thead>\n",
       "    <tr style=\"text-align: right;\">\n",
       "      <th>1</th>\n",
       "      <th>Suma de creditos</th>\n",
       "      <th>Suma de monto</th>\n",
       "      <th>año</th>\n",
       "      <th>mes</th>\n",
       "      <th>fecha</th>\n",
       "    </tr>\n",
       "  </thead>\n",
       "  <tbody>\n",
       "    <tr>\n",
       "      <th>2</th>\n",
       "      <td>31939.0</td>\n",
       "      <td>30131982391.0</td>\n",
       "      <td>2021</td>\n",
       "      <td>12</td>\n",
       "      <td>2021-12-01</td>\n",
       "    </tr>\n",
       "    <tr>\n",
       "      <th>3</th>\n",
       "      <td>25132.0</td>\n",
       "      <td>22247216194.0</td>\n",
       "      <td>2021</td>\n",
       "      <td>11</td>\n",
       "      <td>2021-11-01</td>\n",
       "    </tr>\n",
       "    <tr>\n",
       "      <th>4</th>\n",
       "      <td>27984.0</td>\n",
       "      <td>22820959830.0</td>\n",
       "      <td>2021</td>\n",
       "      <td>10</td>\n",
       "      <td>2021-10-01</td>\n",
       "    </tr>\n",
       "    <tr>\n",
       "      <th>5</th>\n",
       "      <td>29515.0</td>\n",
       "      <td>24420925321.0</td>\n",
       "      <td>2021</td>\n",
       "      <td>09</td>\n",
       "      <td>2021-09-01</td>\n",
       "    </tr>\n",
       "    <tr>\n",
       "      <th>6</th>\n",
       "      <td>32438.0</td>\n",
       "      <td>24786322295.0</td>\n",
       "      <td>2021</td>\n",
       "      <td>08</td>\n",
       "      <td>2021-08-01</td>\n",
       "    </tr>\n",
       "    <tr>\n",
       "      <th>...</th>\n",
       "      <td>...</td>\n",
       "      <td>...</td>\n",
       "      <td>...</td>\n",
       "      <td>...</td>\n",
       "      <td>...</td>\n",
       "    </tr>\n",
       "    <tr>\n",
       "      <th>147</th>\n",
       "      <td>4929.0</td>\n",
       "      <td>3656391473.0</td>\n",
       "      <td>2009</td>\n",
       "      <td>11</td>\n",
       "      <td>2009-11-01</td>\n",
       "    </tr>\n",
       "    <tr>\n",
       "      <th>148</th>\n",
       "      <td>5135.0</td>\n",
       "      <td>3903630326.0</td>\n",
       "      <td>2009</td>\n",
       "      <td>10</td>\n",
       "      <td>2009-10-01</td>\n",
       "    </tr>\n",
       "    <tr>\n",
       "      <th>149</th>\n",
       "      <td>5486.0</td>\n",
       "      <td>4153916341.0</td>\n",
       "      <td>2009</td>\n",
       "      <td>09</td>\n",
       "      <td>2009-09-01</td>\n",
       "    </tr>\n",
       "    <tr>\n",
       "      <th>150</th>\n",
       "      <td>5382.0</td>\n",
       "      <td>4044623811.0</td>\n",
       "      <td>2009</td>\n",
       "      <td>08</td>\n",
       "      <td>2009-08-01</td>\n",
       "    </tr>\n",
       "    <tr>\n",
       "      <th>151</th>\n",
       "      <td>5905.0</td>\n",
       "      <td>4318391637.0</td>\n",
       "      <td>2009</td>\n",
       "      <td>07</td>\n",
       "      <td>2009-07-01</td>\n",
       "    </tr>\n",
       "  </tbody>\n",
       "</table>\n",
       "<p>150 rows × 5 columns</p>\n",
       "</div>"
      ],
      "text/plain": [
       "1   Suma de creditos  Suma de monto   año mes      fecha\n",
       "2            31939.0  30131982391.0  2021  12 2021-12-01\n",
       "3            25132.0  22247216194.0  2021  11 2021-11-01\n",
       "4            27984.0  22820959830.0  2021  10 2021-10-01\n",
       "5            29515.0  24420925321.0  2021  09 2021-09-01\n",
       "6            32438.0  24786322295.0  2021  08 2021-08-01\n",
       "..               ...            ...   ...  ..        ...\n",
       "147           4929.0   3656391473.0  2009  11 2009-11-01\n",
       "148           5135.0   3903630326.0  2009  10 2009-10-01\n",
       "149           5486.0   4153916341.0  2009  09 2009-09-01\n",
       "150           5382.0   4044623811.0  2009  08 2009-08-01\n",
       "151           5905.0   4318391637.0  2009  07 2009-07-01\n",
       "\n",
       "[150 rows x 5 columns]"
      ]
     },
     "execution_count": 19,
     "metadata": {},
     "output_type": "execute_result"
    }
   ],
   "source": [
    "#Traer los datos de la tabla dinámica a un dataframe\n",
    "df = pd.DataFrame(pvtTable.TableRange1.Value)\n",
    "#Fila 1 del dataframe como encabezado\n",
    "df.columns = df.iloc[1]\n",
    "#liminar filas 0 y 1\n",
    "df = df.drop([0,1])\n",
    "#Eliminar última fila\n",
    "df = df.drop(df.index[-1])\n",
    "#Convertir cve_periodo a string\n",
    "df[\"cve_periodo\"] = df[\"cve_periodo\"].astype(str)\n",
    "#Crear variables de año y mes\n",
    "df[\"año\"] = df[\"cve_periodo\"].str[0:4]\n",
    "df[\"mes\"] = df[\"cve_periodo\"].str[4:6]\n",
    "#Crear variable de fecha y pasarla a datetime\n",
    "df[\"fecha\"] = df[\"año\"] + \"-\" + df[\"mes\"] + \"-01\"\n",
    "df[\"fecha\"] = pd.to_datetime(df[\"fecha\"])\n",
    "#Eliminar variables de año y mes\n",
    "df = df.drop([\"cve_periodo\"], axis=1)\n",
    "df"
   ]
  },
  {
   "cell_type": "code",
   "execution_count": 20,
   "metadata": {},
   "outputs": [],
   "source": [
    "#Cerrar el libro de excel sin guardar los cambios\n",
    "wb.Close(False)"
   ]
  }
 ],
 "metadata": {
  "kernelspec": {
   "display_name": "base",
   "language": "python",
   "name": "python3"
  },
  "language_info": {
   "codemirror_mode": {
    "name": "ipython",
    "version": 3
   },
   "file_extension": ".py",
   "mimetype": "text/x-python",
   "name": "python",
   "nbconvert_exporter": "python",
   "pygments_lexer": "ipython3",
   "version": "3.9.13"
  },
  "orig_nbformat": 4,
  "vscode": {
   "interpreter": {
    "hash": "7f2521f8c852c438ae51a89799ece420e6f028aa659cd11ab73056bc51495ab9"
   }
  }
 },
 "nbformat": 4,
 "nbformat_minor": 2
}
